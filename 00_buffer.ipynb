{
 "cells": [
  {
   "cell_type": "code",
   "execution_count": 449,
   "metadata": {},
   "outputs": [],
   "source": [
    "#default_exp buffer"
   ]
  },
  {
   "cell_type": "code",
   "execution_count": 475,
   "metadata": {},
   "outputs": [],
   "source": [
    "#export\n",
    "from fastcore.basics import basic_repr, store_attr, patch\n",
    "from fastcore.test import test_eq, test_is"
   ]
  },
  {
   "cell_type": "markdown",
   "metadata": {},
   "source": [
    "## Buffer"
   ]
  },
  {
   "cell_type": "markdown",
   "metadata": {},
   "source": [
    "The most important data structure in a text editor is the `Buffer`. A `Buffer` stores text (internally as a list of `lines` which are strings) and allows efficienct insertion and deletion operations."
   ]
  },
  {
   "cell_type": "code",
   "execution_count": 485,
   "metadata": {},
   "outputs": [],
   "source": [
    "#export\n",
    "class Buffer:\n",
    "    def __init__(self, lines, name=None):\n",
    "        store_attr()\n",
    "\n",
    "    def __repr__(self):\n",
    "        return \"\\n\".join(self.lines)\n",
    "\n",
    "    def __eq__(self, o):\n",
    "        if isinstance(o, self.__class__):\n",
    "            return self.lines == o.lines\n",
    "        return False\n",
    "\n",
    "    @classmethod\n",
    "    def from_string(cls, s):\n",
    "        return cls(s.splitlines())"
   ]
  },
  {
   "cell_type": "markdown",
   "metadata": {},
   "source": [
    "Create a `Buffer` by either manually passing a list of lines to the constructor, or from a single string with `from_string`. The original contents of the string can be recovered via the `repr`."
   ]
  },
  {
   "cell_type": "code",
   "execution_count": 486,
   "metadata": {},
   "outputs": [],
   "source": [
    "b1 = Buffer([\"foo\", \"bar\"])\n",
    "test_eq(b1.lines, [\"foo\", \"bar\"])\n",
    "test_eq(repr(b1), \"foo\\nbar\")\n",
    "\n",
    "b2 = Buffer.from_string(\"foo\\nbar\")\n",
    "test_eq(b1, b2)"
   ]
  },
  {
   "cell_type": "markdown",
   "metadata": {},
   "source": [
    "Insert a string at a given position (`row` and `col`) using `insert`. Since `Buffer`s are _immutable_, `insert` returns a new `Buffer` with the original remaining unmodified."
   ]
  },
  {
   "cell_type": "code",
   "execution_count": 487,
   "metadata": {},
   "outputs": [],
   "source": [
    "#export\n",
    "@patch\n",
    "def insert(self:Buffer, row, column, s):\n",
    "    lines = self.lines.copy()\n",
    "    cur = lines.pop(row)\n",
    "    before, after = cur[:column], cur[column:]\n",
    "    if s == \"\\n\":\n",
    "        lines.insert(row, before)\n",
    "        lines.insert(row+1, after)\n",
    "    else:\n",
    "        lines.insert(row, before+s+after)\n",
    "    return Buffer(lines, self.name)"
   ]
  },
  {
   "cell_type": "code",
   "execution_count": 488,
   "metadata": {},
   "outputs": [],
   "source": [
    "b = Buffer([\"foo\", \"bar\"])\n",
    "b2 = b.insert(0, 2, \"baz\")\n",
    "\n",
    "test_eq(b.lines, [\"foo\", \"bar\"])\n",
    "test_eq(b2.lines, [\"fobazo\", \"bar\"])"
   ]
  },
  {
   "cell_type": "markdown",
   "metadata": {},
   "source": [
    "Inserting a newline character, `\"\\n\"`, splits the line:"
   ]
  },
  {
   "cell_type": "code",
   "execution_count": 489,
   "metadata": {},
   "outputs": [],
   "source": [
    "b = Buffer([\"foo\", \"bar\"])\n",
    "test_eq(b.insert(0, 2, \"\\n\").lines, [\"fo\", \"o\", \"bar\"])"
   ]
  },
  {
   "cell_type": "markdown",
   "metadata": {},
   "source": [
    "---\n",
    "\n",
    "**TODO:** This doesn't feel like it belongs here. Either belongs in `core` or maybe in `Region`?\n",
    "\n",
    "Although `Buffer`s operate on `(row, col)` positions, it is often required to move forward or backward `n` steps from a given position. This is handled with the `rel2abs` function, which converts _relative_ movement (number of steps `n`) at a given position in a buffer to a new absolute position.\n",
    "\n",
    "In other words, it converts from `(row_0, col_0, n)` to `(row_1, col_1)`.\n",
    "\n",
    "Positive `n` moves forward `n` characters, and negative moves backward. `rel2abs` also handles movement across lines in either direction."
   ]
  },
  {
   "cell_type": "code",
   "execution_count": 490,
   "metadata": {},
   "outputs": [],
   "source": [
    "def rel2abs(lines, row, col, n):\n",
    "    col += n\n",
    "    if 0 <= col <= len(lines[row]):\n",
    "        return row, col\n",
    "    if n < 0:\n",
    "        return rel2abs(lines, row-1, len(lines[row-1]), col+1)\n",
    "    if n > 0:\n",
    "        return rel2abs(lines, row+1, 0, col-len(lines[row])-1)\n",
    "    raise AssertionError()"
   ]
  },
  {
   "cell_type": "code",
   "execution_count": 491,
   "metadata": {},
   "outputs": [],
   "source": [
    "lines = [\"two\", \"three\", \"four\"]\n",
    "\n",
    "test_eq(rel2abs(lines, 2, 2, -2), (2, 0))\n",
    "test_eq(rel2abs(lines, 2, 2, -3), (1, 5))\n",
    "test_eq(rel2abs(lines, 2, 2, -5), (1, 3))\n",
    "test_eq(rel2abs(lines, 2, 2, -10), (0, 2))\n",
    "\n",
    "test_eq(rel2abs(lines, 2, 0, 2), (2, 2))\n",
    "test_eq(rel2abs(lines, 1, 5, 3), (2, 2))\n",
    "test_eq(rel2abs(lines, 1, 3, 5), (2, 2))\n",
    "test_eq(rel2abs(lines, 0, 2, 10), (2, 2))"
   ]
  },
  {
   "cell_type": "markdown",
   "metadata": {},
   "source": [
    "---"
   ]
  },
  {
   "cell_type": "markdown",
   "metadata": {},
   "source": [
    "Delete `n` characters from position `(row, col)` using `delete`, forward if `n` is positive and backward if `n` is negative. Deleting across lines joins lines as necessary."
   ]
  },
  {
   "cell_type": "code",
   "execution_count": 492,
   "metadata": {},
   "outputs": [],
   "source": [
    "#export\n",
    "@patch\n",
    "def delete(self:Buffer, row, col, n):\n",
    "    to = rel2abs(self.lines, row, col, n)\n",
    "    (r1, c1), (r2, c2) = sorted(((row, col), to))\n",
    "    before = self.lines[:r1]\n",
    "    cur = self.lines[r1][:c1] + self.lines[r2][c2:]\n",
    "    after = self.lines[r2+1:]\n",
    "    lines = before + [cur] + after\n",
    "    return Buffer(lines, self.name)"
   ]
  },
  {
   "cell_type": "code",
   "execution_count": 493,
   "metadata": {},
   "outputs": [],
   "source": [
    "b = Buffer([\"two\", \"three\", \"four\"])\n",
    "\n",
    "test_eq(b.delete(2, 2, 0).lines, b.lines)\n",
    "\n",
    "test_eq(b.delete(0, 1, 2).lines, [\"t\", \"three\", \"four\"])\n",
    "test_eq(b.delete(0, 1, 3).lines, [\"tthree\", \"four\"])\n",
    "test_eq(b.delete(0, 1, 10).lines, [\"tour\"])\n",
    "\n",
    "test_eq(b.delete(2, 2, -1).lines, [\"two\", \"three\", \"fur\"])\n",
    "test_eq(b.delete(2, 2, -5).lines, [\"two\", \"thrur\"])\n",
    "test_eq(b.delete(2, 2, -10).lines, [\"twur\"])"
   ]
  },
  {
   "cell_type": "markdown",
   "metadata": {},
   "source": [
    "## Cursor\n",
    "\n",
    "> `Cursor`s move through `Buffer`s (which is tricky because line lengths are not uniform) and determine where `Buffer` operations occur."
   ]
  },
  {
   "cell_type": "code",
   "execution_count": 516,
   "metadata": {},
   "outputs": [],
   "source": [
    "class Cursor:\n",
    "    def __init__(self, row=0, col=0, col_hint=None):\n",
    "        col_hint = col if col_hint is None else col_hint\n",
    "        store_attr()\n",
    "\n",
    "    __repr__ = basic_repr(\"row,col,col_hint\")\n",
    "    \n",
    "    def __eq__(self, o):\n",
    "        if isinstance(o, self.__class__):\n",
    "            return vars(self) == vars(o)\n",
    "#             return (self.x, self.y, self.x_hint) == (o.x, o.y, o.x_hint)\n",
    "        return False"
   ]
  },
  {
   "cell_type": "code",
   "execution_count": 518,
   "metadata": {},
   "outputs": [],
   "source": [
    "c = Cursor()\n",
    "\n",
    "test_eq(Cursor(), Cursor(0, 0, 0))\n",
    "test_eq(Cursor(0, 1), Cursor(0, 1, 1))"
   ]
  },
  {
   "cell_type": "markdown",
   "metadata": {},
   "source": [
    "Since `Buffer`s line lengths are not uniform, cursors often need to be \"clamped\" so that their position remains within a `Buffer`."
   ]
  },
  {
   "cell_type": "code",
   "execution_count": 519,
   "metadata": {},
   "outputs": [],
   "source": [
    "#export\n",
    "def clamp(x, lower, upper):\n",
    "    \"Clamp x to the inclusive range [lower, upper].\"\n",
    "    if x < lower: return lower\n",
    "    if x > upper: return upper\n",
    "    return x"
   ]
  },
  {
   "cell_type": "code",
   "execution_count": 520,
   "metadata": {},
   "outputs": [],
   "source": [
    "test_eq(clamp(0, 1, 5), 1)\n",
    "test_eq(clamp(1, 1, 5), 1)\n",
    "test_eq(clamp(2, 1, 5), 2)\n",
    "test_eq(clamp(5, 1, 5), 5)\n",
    "test_eq(clamp(6, 1, 5), 5)"
   ]
  },
  {
   "cell_type": "markdown",
   "metadata": {},
   "source": []
  },
  {
   "cell_type": "code",
   "execution_count": 527,
   "metadata": {},
   "outputs": [],
   "source": [
    "#export\n",
    "@patch\n",
    "def column_move(self:Cursor, n, buffer):\n",
    "    col = clamp(self.col+n, 0, len(buffer.lines[self.row]))\n",
    "    return Cursor(self.row, col, col)"
   ]
  },
  {
   "cell_type": "code",
   "execution_count": 532,
   "metadata": {},
   "outputs": [],
   "source": [
    "c = Cursor(1, 1)\n",
    "b = Buffer([\"foo\", \"bar\", \"baz\"])\n",
    "\n",
    "test_eq(c.column_move(1, b), Cursor(1, 2))\n",
    "test_eq(c.column_move(3, b), Cursor(1, 3))\n",
    "test_eq(c.column_move(-1, b), Cursor(1, 0))\n",
    "test_eq(c.column_move(-3, b), Cursor(1, 0))"
   ]
  },
  {
   "cell_type": "markdown",
   "metadata": {},
   "source": []
  },
  {
   "cell_type": "code",
   "execution_count": 543,
   "metadata": {},
   "outputs": [],
   "source": [
    "#export\n",
    "@patch\n",
    "def line_move(self:Cursor, n, buffer):\n",
    "    row = clamp(self.row+n, 0, len(buffer.lines)-1)\n",
    "    col = min(self.col_hint, len(buffer.lines[row]))\n",
    "    return Cursor(row, col, self.col_hint)"
   ]
  },
  {
   "cell_type": "code",
   "execution_count": 544,
   "metadata": {},
   "outputs": [],
   "source": [
    "c = Cursor(1, 1)\n",
    "b = Buffer([\"foo\", \"bar\", \"baz\"])\n",
    "\n",
    "test_eq(c.line_move(1, b), Cursor(2, 1))\n",
    "test_eq(c.line_move(2, b), Cursor(2, 1))\n",
    "test_eq(c.line_move(-1, b), Cursor(0, 1))\n",
    "test_eq(c.line_move(-2, b), Cursor(0, 1))"
   ]
  },
  {
   "cell_type": "code",
   "execution_count": 545,
   "metadata": {},
   "outputs": [],
   "source": [
    "b = Buffer([\"foobar\", \"baz\", \"foobar\"])\n",
    "c1 = Cursor(0, 5)\n",
    "c2 = c1.line_move(1, b2)\n",
    "c3 = c2.line_move(1, b2)\n",
    "\n",
    "test_eq(c2, Cursor(1, 3, 5))\n",
    "test_eq(c3, Cursor(2, 5, 5))"
   ]
  },
  {
   "cell_type": "code",
   "execution_count": 546,
   "metadata": {},
   "outputs": [],
   "source": [
    "#export\n",
    "@patch\n",
    "def up(self:Cursor, buffer):\n",
    "    return self.line_move(-1, buffer)\n",
    "\n",
    "@patch\n",
    "def down(self:Cursor, buffer):\n",
    "    return self.line_move(1, buffer)\n",
    "\n",
    "@patch\n",
    "def left(self:Cursor, buffer):\n",
    "    if self.col == 0 and self.row > 0:\n",
    "        return self.up(buffer).move_end_of_line(buffer)\n",
    "    return self.column_move(-1, buffer)\n",
    "\n",
    "@patch\n",
    "def right(self:Cursor, buffer):\n",
    "    if self.col == len(buffer.lines[self.row]) and self.row < len(buffer.lines):\n",
    "        return self.down(buffer).move_beginning_of_line()\n",
    "    return self.column_move(1, buffer)\n",
    "\n",
    "@patch\n",
    "def move_beginning_of_line(self:Cursor):\n",
    "    return Cursor(0, self.row, 0)\n",
    "\n",
    "@patch\n",
    "def move_end_of_line(self:Cursor, buffer):\n",
    "    return Cursor(len(buffer.lines[self.row]), self.row, self.MAX_X)"
   ]
  },
  {
   "cell_type": "markdown",
   "metadata": {},
   "source": [
    "## Window"
   ]
  },
  {
   "cell_type": "code",
   "execution_count": 549,
   "metadata": {},
   "outputs": [],
   "source": [
    "class Window:\n",
    "    def __init__(self, nrows, ncols, row_offset, col_offset):\n",
    "        store_attr()\n",
    "\n",
    "    @property\n",
    "    def row_end(self) -> int:\n",
    "        return self.row + self.nrows\n",
    "\n",
    "    def visible_lines(self, buffer):\n",
    "        return buffer[self.row : self.row_end]\n",
    "\n",
    "    def cursor_position(self, cursor):\n",
    "        return cursor.col - self.col_offset, cursor.row - self.row_offset\n",
    "\n",
    "    def scroll_up(self, cursor, margin=1):\n",
    "        if self.row_offset > 0 and cursor.row < self.row_offset + margin:\n",
    "            self.row_offset -= 1\n",
    "\n",
    "    def scroll_down(self, cursor, buffer, margin=1):\n",
    "        if self.row_end < len(buffer) and cursor.row >= self.row_end - margin:\n",
    "            self.row_offset += 1\n",
    "\n",
    "    def status_line(self, buffer, cursor):\n",
    "        file_status = \" \" + buffer.filename\n",
    "        if buffer.is_modified:\n",
    "            file_status += \" [+]\"\n",
    "        cursor_status = f\"L: {cursor.row + 1}/{len(buffer)} C: {cursor.col + 1}\" + \" \"\n",
    "        pad_length = self.ncols - len(file_status) - len(cursor_status) - 1\n",
    "        return file_status + \" \" * pad_length + cursor_status"
   ]
  },
  {
   "cell_type": "markdown",
   "metadata": {},
   "source": [
    "## Blocks\n",
    "\n",
    "> Outliner shit"
   ]
  },
  {
   "cell_type": "markdown",
   "metadata": {},
   "source": [
    "- Each block contains a single buffer. Maybe it _is_ a buffer?\n",
    "- Blocks have indentation levels. They exist in a tree.\n",
    "- Can be edited.\n",
    "- Can be moved.\n",
    "- Can be nested / unnested.\n",
    "- Can be expanded / collapsed."
   ]
  },
  {
   "cell_type": "code",
   "execution_count": 589,
   "metadata": {},
   "outputs": [],
   "source": [
    "class Page:\n",
    "    def __init__(self, name, children):\n",
    "        store_attr()\n",
    "\n",
    "    def __str__(self):\n",
    "        return \"\\n\".join((self.name, len(self.name)*\"-\", *(str(c) for c in self.children)))"
   ]
  },
  {
   "cell_type": "code",
   "execution_count": 590,
   "metadata": {},
   "outputs": [],
   "source": [
    "class Block:\n",
    "    def __init__(self, string, children):\n",
    "        store_attr()\n",
    "\n",
    "    def print(self, level=0, indent=2, bullet=\"-\"):\n",
    "        indent = level * indent * \" \"\n",
    "        string = indent + bullet + \" \" + self.string + \"\\n\"\n",
    "        for c in self.children:\n",
    "            string += c.print(level + 1)\n",
    "        return string\n",
    "\n",
    "    def __str__(self):\n",
    "        return self.print().strip()"
   ]
  },
  {
   "cell_type": "code",
   "execution_count": 591,
   "metadata": {},
   "outputs": [],
   "source": [
    "b1 = Block(\"baz\", [])\n",
    "b2 = Block(\"bar\", [b1])\n",
    "b3 = Block(\"foo\", [b2])\n",
    "\n",
    "test_eq(str(b1), \"- baz\")\n",
    "test_eq(str(b2), \"- bar\\n  - baz\")\n",
    "test_eq(str(b3), \"- foo\\n  - bar\\n    - baz\")"
   ]
  },
  {
   "cell_type": "markdown",
   "metadata": {},
   "source": [
    "Can only be indented 1 level deeper than its previous block. How to state that in terms of children data structure?\n",
    "\n",
    "Seems super tricky because of the orderedness..."
   ]
  },
  {
   "cell_type": "code",
   "execution_count": null,
   "metadata": {},
   "outputs": [],
   "source": []
  },
  {
   "cell_type": "code",
   "execution_count": 592,
   "metadata": {},
   "outputs": [],
   "source": [
    "@patch\n",
    "def indent(self:Block, n):\n",
    "    pass"
   ]
  },
  {
   "cell_type": "code",
   "execution_count": 613,
   "metadata": {},
   "outputs": [
    {
     "name": "stdout",
     "output_type": "stream",
     "text": [
      "Indent bar +1\n",
      "\n",
      "Before\n",
      "------\n",
      "- foo\n",
      "  - bar\n",
      "  - baz\n",
      "\n",
      "After\n",
      "-----\n",
      "- foo\n",
      "  - bar\n",
      "    - baz\n"
     ]
    }
   ],
   "source": [
    "print(\"Indent bar +1\\n\")\n",
    "\n",
    "b1 = Block(\"baz\", [])\n",
    "b2 = Block(\"bar\", [])\n",
    "b3 = Block(\"foo\", [b2, b1])\n",
    "\n",
    "print(Page(\"Before\", [b3]))\n",
    "\n",
    "# b1.indent(1)\n",
    "\n",
    "b1 = Block(\"baz\", [])\n",
    "b2 = Block(\"bar\", [b1])\n",
    "b3 = Block(\"foo\", [b2])\n",
    "\n",
    "print()\n",
    "print(Page(\"After\", [b3]))\n",
    "\n",
    "# b1 is popped from its parent to its latest sibling"
   ]
  },
  {
   "cell_type": "code",
   "execution_count": 609,
   "metadata": {},
   "outputs": [
    {
     "name": "stdout",
     "output_type": "stream",
     "text": [
      "Indent bar -1\n",
      "\n",
      "Before\n",
      "------\n",
      "- foo\n",
      "  - bar\n",
      "    - baz\n",
      "\n",
      "After\n",
      "-----\n",
      "- foo\n",
      "- bar\n",
      "  - baz\n"
     ]
    }
   ],
   "source": [
    "print(\"Indent bar -1\\n\")\n",
    "\n",
    "b1 = Block(\"baz\", [])\n",
    "b2 = Block(\"bar\", [b1])\n",
    "b3 = Block(\"foo\", [b2])\n",
    "\n",
    "print(Page(\"Before\", [b3]))\n",
    "\n",
    "# b2.indent(-1)\n",
    "\n",
    "b1 = Block(\"baz\", [])\n",
    "b2 = Block(\"bar\", [b1])\n",
    "b3 = Block(\"foo\", [])\n",
    "\n",
    "print()\n",
    "print(Page(\"After\", [b3, b2]))\n",
    "\n",
    "# b2 gets popped from its parent to its parent's parent"
   ]
  },
  {
   "cell_type": "code",
   "execution_count": 574,
   "metadata": {},
   "outputs": [],
   "source": [
    "@patch\n",
    "def move(self:Block, n):\n",
    "    pass"
   ]
  },
  {
   "cell_type": "markdown",
   "metadata": {},
   "source": [
    "Can only move if it's valid to be at the same indentation at the target."
   ]
  },
  {
   "cell_type": "code",
   "execution_count": 618,
   "metadata": {},
   "outputs": [
    {
     "name": "stdout",
     "output_type": "stream",
     "text": [
      "Move bar -1\n",
      "\n",
      "Before\n",
      "------\n",
      "- foo\n",
      "- bar\n",
      "  - baz\n",
      "\n",
      "After\n",
      "-----\n",
      "- bar\n",
      "  - baz\n",
      "- foo\n"
     ]
    }
   ],
   "source": [
    "print(\"Move bar -1\\n\")\n",
    "\n",
    "b1 = Block(\"baz\", [])\n",
    "b2 = Block(\"bar\", [b1])\n",
    "b3 = Block(\"foo\", [])\n",
    "\n",
    "print(Page(\"Before\", [b3, b2]))\n",
    "\n",
    "# b2.move(-1)\n",
    "\n",
    "b1 = Block(\"baz\", [])\n",
    "b2 = Block(\"bar\", [b1])\n",
    "b3 = Block(\"foo\", [])\n",
    "\n",
    "print()\n",
    "print(Page(\"After\", [b2, b3]))\n",
    "\n",
    "# b2 is moved to before its previous sibling.\n",
    "# If there are no further siblings, try to move to the last child of the parent's previous sibling."
   ]
  },
  {
   "cell_type": "markdown",
   "metadata": {},
   "source": [
    "Are expand/collapse just binary flags that are only used at the view layer? I guess I can simulate with `__str__`."
   ]
  },
  {
   "cell_type": "code",
   "execution_count": 574,
   "metadata": {},
   "outputs": [],
   "source": [
    "@patch\n",
    "def expand(self:Block):\n",
    "    pass"
   ]
  },
  {
   "cell_type": "code",
   "execution_count": 575,
   "metadata": {},
   "outputs": [],
   "source": [
    "@patch\n",
    "def collapse(self:Block):\n",
    "    pass"
   ]
  },
  {
   "cell_type": "code",
   "execution_count": 577,
   "metadata": {},
   "outputs": [],
   "source": [
    "# TODO: New block? Where does that go?\n",
    "\n",
    "# TODO: Delete block? Where does that go?"
   ]
  },
  {
   "cell_type": "markdown",
   "metadata": {},
   "source": [
    "## Pages"
   ]
  },
  {
   "cell_type": "code",
   "execution_count": 551,
   "metadata": {},
   "outputs": [],
   "source": [
    "class Page:\n",
    "    def __init__(self, name, children):\n",
    "        store_attr()"
   ]
  },
  {
   "cell_type": "code",
   "execution_count": null,
   "metadata": {},
   "outputs": [],
   "source": []
  },
  {
   "cell_type": "markdown",
   "metadata": {},
   "source": [
    "## Roamlike Parser"
   ]
  },
  {
   "cell_type": "code",
   "execution_count": null,
   "metadata": {},
   "outputs": [],
   "source": []
  },
  {
   "cell_type": "code",
   "execution_count": null,
   "metadata": {},
   "outputs": [],
   "source": []
  },
  {
   "cell_type": "markdown",
   "metadata": {},
   "source": [
    "## IPython Kernel Wrapper"
   ]
  },
  {
   "cell_type": "code",
   "execution_count": null,
   "metadata": {},
   "outputs": [],
   "source": []
  },
  {
   "cell_type": "code",
   "execution_count": null,
   "metadata": {},
   "outputs": [],
   "source": []
  },
  {
   "cell_type": "markdown",
   "metadata": {},
   "source": [
    "## Keys"
   ]
  },
  {
   "cell_type": "code",
   "execution_count": null,
   "metadata": {},
   "outputs": [],
   "source": []
  },
  {
   "cell_type": "code",
   "execution_count": null,
   "metadata": {},
   "outputs": [],
   "source": []
  },
  {
   "cell_type": "markdown",
   "metadata": {},
   "source": [
    "## Editor"
   ]
  },
  {
   "cell_type": "code",
   "execution_count": null,
   "metadata": {},
   "outputs": [],
   "source": [
    "def main(argv: Optional[Sequence[str]] = None) -> int:\n",
    "    parser = argparse.ArgumentParser()\n",
    "    parser.add_argument(\"filename\")\n",
    "    args = parser.parse_args(argv)\n",
    "    return curses.wrapper(c_main, args.filename)"
   ]
  },
  {
   "cell_type": "code",
   "execution_count": null,
   "metadata": {},
   "outputs": [],
   "source": [
    "def c_main(stdscr: \"curses._CursesWindow\", filename: str) -> int:\n",
    "    Editor(filename).run(stdscr)\n",
    "    return 0"
   ]
  },
  {
   "cell_type": "code",
   "execution_count": null,
   "metadata": {},
   "outputs": [],
   "source": [
    "class Editor:\n",
    "    def __init__(self, filename: str):\n",
    "        with open(filename) as f:\n",
    "            lines = f.read().split(\"\\n\")\n",
    "        self.buffer = Buffer(lines, filename)\n",
    "        self.cursor = Cursor()\n",
    "        self.window = Window(curses.COLS, curses.LINES - 1)\n",
    "        self.undo_stack: List[Tuple[Buffer, Cursor]] = []\n",
    "        self.redo_stack: List[Tuple[Buffer, Cursor]] = []\n",
    "        self.command_line = \"\"\n",
    "\n",
    "    # Main\n",
    "\n",
    "    def run(self, stdscr: \"curses._CursesWindow\") -> None:\n",
    "        while True:\n",
    "            self.render(stdscr)\n",
    "            self.command_line = \"\"\n",
    "            self.handle_key(stdscr)\n",
    "\n",
    "    def render(self, stdscr: \"curses._CursesWindow\") -> None:\n",
    "        stdscr.erase()\n",
    "        # Window\n",
    "        for y, line in enumerate(self.window.visible_lines(self.buffer)):\n",
    "            stdscr.addstr(y, 0, line)\n",
    "        # Status line\n",
    "        stdscr.addstr(\n",
    "            self.window.height - 1,\n",
    "            0,\n",
    "            self.window.status_line(self.buffer, self.cursor),\n",
    "            curses.A_REVERSE,\n",
    "        )\n",
    "        # Command line\n",
    "        stdscr.addstr(self.window.height, 0, self.command_line)\n",
    "        # Cursor\n",
    "        stdscr.move(*self.window.cursor_position(self.cursor))\n",
    "\n",
    "    def handle_key(self, stdscr: \"curses._CursesWindow\") -> None:\n",
    "        c = self.getkey(stdscr)\n",
    "\n",
    "        with open(\"log.txt\", \"a\") as f:\n",
    "            f.write(c + \"\\n\")\n",
    "\n",
    "        if c == \"C-q\":\n",
    "            self.exit()\n",
    "        elif c == \"C-p\":\n",
    "            self.previous_line()\n",
    "        elif c == \"C-n\":\n",
    "            self.next_line()\n",
    "        elif c == \"C-b\":\n",
    "            self.backward_char()\n",
    "        elif c == \"C-f\":\n",
    "            self.forward_char()\n",
    "        elif c == \"C-a\":\n",
    "            self.move_beginning_of_line()\n",
    "        elif c == \"C-e\":\n",
    "            self.move_end_of_line()\n",
    "        elif c == \"C-j\":  # <enter>\n",
    "            self.newline()\n",
    "        elif c == \"<backspace>\":\n",
    "            self.delete_char()\n",
    "        elif c == \"C-d\":  # del\n",
    "            self.delete_forward_char()\n",
    "        elif c == \"C-s\":\n",
    "            self.save_buffer()\n",
    "        elif c == \"C-_\":  # C-/\n",
    "            self.undo()\n",
    "        elif c == \"M-/\":\n",
    "            self.redo()\n",
    "        else:\n",
    "            self.add_char(c)\n",
    "\n",
    "    def exit(self) -> None:\n",
    "        # TODO: If any buffer has been modified, print an error message instead.\n",
    "        # TODO: Add a prompt that waits for the user to press enter to continue.\n",
    "        if self.buffer.is_modified:\n",
    "            self.send_message(\n",
    "                f'No write since last change for buffer \"{self.buffer.filename}\"',\n",
    "            )\n",
    "            return\n",
    "        sys.exit(0)\n",
    "\n",
    "    # Keyboard\n",
    "\n",
    "    def getkey(self, stdscr: \"curses._CursesWindow\") -> str:\n",
    "        # TODO: Make a simple Key class that knows that some keys\n",
    "        #       have multiple possible chars. E.g., C-j = RET = ...\n",
    "        c = stdscr.getch()\n",
    "\n",
    "        # Meta\n",
    "        if c == curses.ascii.ESC:\n",
    "            stdscr.nodelay(True)\n",
    "            c2 = stdscr.getch()\n",
    "            stdscr.nodelay(False)\n",
    "            if c2 == curses.ERR:  # no additional key pressed\n",
    "                return \"<escape>\"\n",
    "            # Ctrl + Meta\n",
    "            c2_unctrl = curses.unctrl(c2).decode(\"ascii\")\n",
    "            if curses.ascii.isctrl(c2):\n",
    "                c2_key = c2_unctrl[1:].lower()\n",
    "                return f\"C-M-{c2_key}\"\n",
    "            return f\"M-{c2_unctrl}\"\n",
    "\n",
    "        # Ctrl\n",
    "        if curses.ascii.isctrl(c):\n",
    "            c_key = curses.unctrl(c).decode(\"ascii\")[1:].lower()\n",
    "            return f\"C-{c_key}\"\n",
    "\n",
    "        if c == curses.ascii.DEL:\n",
    "            return \"<backspace>\"\n",
    "\n",
    "        # Plain char\n",
    "        if curses.ascii.isprint(c):\n",
    "            return curses.unctrl(c).decode(\"ascii\")\n",
    "\n",
    "        raise NotImplementedError(f\"Unknown character key code: {c}\")\n",
    "\n",
    "    # Cursor movement\n",
    "\n",
    "    def previous_line(self) -> None:\n",
    "        self.cursor = self.cursor.up(self.buffer)\n",
    "        self.window.scroll_up(self.cursor)\n",
    "\n",
    "    def next_line(self) -> None:\n",
    "        self.cursor = self.cursor.down(self.buffer)\n",
    "        self.window.scroll_down(self.cursor, self.buffer)\n",
    "\n",
    "    def backward_char(self) -> None:\n",
    "        self.cursor = self.cursor.left(self.buffer)\n",
    "        self.window.scroll_up(self.cursor)\n",
    "\n",
    "    def forward_char(self) -> None:\n",
    "        self.cursor = self.cursor.right(self.buffer)\n",
    "        self.window.scroll_down(self.cursor, self.buffer)\n",
    "\n",
    "    # Buffer editing\n",
    "\n",
    "    def delete_char(self) -> None:\n",
    "        if not (self.cursor.y == 0 and self.cursor.x == 0):\n",
    "            self._checkpoint()\n",
    "            # Move the cursor with the unmodified buffer, else it ends up at the\n",
    "            # end of the new, combined line.\n",
    "            cursor = self.cursor.left(self.buffer)\n",
    "            self.buffer = self.buffer.delete_char(self.cursor)\n",
    "            self.cursor = cursor\n",
    "            self.window.scroll_up(self.cursor)\n",
    "\n",
    "    def delete_forward_char(self) -> None:\n",
    "        if not (\n",
    "            self.cursor.y == len(self.buffer) - 1\n",
    "            and self.cursor.x == len(self.buffer[self.cursor.y])\n",
    "        ):\n",
    "            self._checkpoint()\n",
    "            self.buffer = self.buffer.delete_forward_char(self.cursor)\n",
    "\n",
    "    def add_char(self, c: str) -> None:\n",
    "        self._checkpoint()\n",
    "        self.buffer = self.buffer.add_char(self.cursor, c)\n",
    "        self.cursor = self.cursor.right(self.buffer)\n",
    "\n",
    "    def newline(self) -> None:\n",
    "        self._checkpoint()\n",
    "        self.buffer = self.buffer.newline(self.cursor)\n",
    "        self.cursor = self.cursor.right(self.buffer)\n",
    "        self.window.scroll_down(self.cursor, self.buffer)\n",
    "\n",
    "    def move_beginning_of_line(self) -> None:\n",
    "        self.cursor = self.cursor.move_beginning_of_line()\n",
    "\n",
    "    def move_end_of_line(self) -> None:\n",
    "        self.cursor = self.cursor.move_end_of_line(self.buffer)\n",
    "\n",
    "    # IO\n",
    "\n",
    "    def save_buffer(self) -> None:\n",
    "        # TODO: This isn't safe! We should check if the file changed externally.\n",
    "        self.buffer.save()\n",
    "        self.send_message(f'\"{self.buffer.filename}\" {len(self.buffer)}L written')\n",
    "\n",
    "    # Undo/redo\n",
    "\n",
    "    def _checkpoint(self) -> None:\n",
    "        self.redo_stack = []\n",
    "        self.undo_stack.append((self.buffer, self.cursor))\n",
    "\n",
    "    def undo(self) -> None:\n",
    "        if self.undo_stack:\n",
    "            self.redo_stack.append((self.buffer, self.cursor))\n",
    "            self.buffer, self.cursor = self.undo_stack.pop()\n",
    "        else:\n",
    "            self.send_message(\"Already at oldest change\")\n",
    "\n",
    "    def redo(self) -> None:\n",
    "        if self.redo_stack:\n",
    "            self.undo_stack.append((self.buffer, self.cursor))\n",
    "            self.buffer, self.cursor = self.redo_stack.pop()\n",
    "        else:\n",
    "            self.send_message(\"Already at newest change\")\n",
    "\n",
    "    # Messages\n",
    "\n",
    "    def send_message(self, message: str) -> None:\n",
    "        self.command_line = message"
   ]
  }
 ],
 "metadata": {
  "kernelspec": {
   "display_name": "Python 3",
   "language": "python",
   "name": "python3"
  },
  "language_info": {
   "codemirror_mode": {
    "name": "ipython",
    "version": 3
   },
   "file_extension": ".py",
   "mimetype": "text/x-python",
   "name": "python",
   "nbconvert_exporter": "python",
   "pygments_lexer": "ipython3",
   "version": "3.8.5"
  }
 },
 "nbformat": 4,
 "nbformat_minor": 4
}
